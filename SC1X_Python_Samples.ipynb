{
  "nbformat": 4,
  "nbformat_minor": 0,
  "metadata": {
    "colab": {
      "name": "SC1X_Python_Samples.ipynb",
      "provenance": [],
      "collapsed_sections": [],
      "authorship_tag": "ABX9TyOPDDgmzQfaBLcNJhJMPy/G",
      "include_colab_link": true
    },
    "kernelspec": {
      "name": "python3",
      "display_name": "Python 3"
    },
    "language_info": {
      "name": "python"
    },
    "widgets": {
      "application/vnd.jupyter.widget-state+json": {
        "858a4b00f4e94c4181423e85ea585c77": {
          "model_module": "@jupyter-widgets/controls",
          "model_name": "HBoxModel",
          "model_module_version": "1.5.0",
          "state": {
            "_dom_classes": [],
            "_model_module": "@jupyter-widgets/controls",
            "_model_module_version": "1.5.0",
            "_model_name": "HBoxModel",
            "_view_count": null,
            "_view_module": "@jupyter-widgets/controls",
            "_view_module_version": "1.5.0",
            "_view_name": "HBoxView",
            "box_style": "",
            "children": [
              "IPY_MODEL_49c9d97fa84c4d16810934672a4f3b54",
              "IPY_MODEL_55079bf095f34ef9974c124cd8e90239",
              "IPY_MODEL_19482df51cf74c23853c1c03808f30e4"
            ],
            "layout": "IPY_MODEL_e71f7faec8b643ffad10d1e3baaea915"
          }
        },
        "49c9d97fa84c4d16810934672a4f3b54": {
          "model_module": "@jupyter-widgets/controls",
          "model_name": "HTMLModel",
          "model_module_version": "1.5.0",
          "state": {
            "_dom_classes": [],
            "_model_module": "@jupyter-widgets/controls",
            "_model_module_version": "1.5.0",
            "_model_name": "HTMLModel",
            "_view_count": null,
            "_view_module": "@jupyter-widgets/controls",
            "_view_module_version": "1.5.0",
            "_view_name": "HTMLView",
            "description": "",
            "description_tooltip": null,
            "layout": "IPY_MODEL_fd5ad79d3c074687ab4cfd7a37e59271",
            "placeholder": "​",
            "style": "IPY_MODEL_458e995fd6334dd2a62a8ba85c188ddb",
            "value": "100%"
          }
        },
        "55079bf095f34ef9974c124cd8e90239": {
          "model_module": "@jupyter-widgets/controls",
          "model_name": "FloatProgressModel",
          "model_module_version": "1.5.0",
          "state": {
            "_dom_classes": [],
            "_model_module": "@jupyter-widgets/controls",
            "_model_module_version": "1.5.0",
            "_model_name": "FloatProgressModel",
            "_view_count": null,
            "_view_module": "@jupyter-widgets/controls",
            "_view_module_version": "1.5.0",
            "_view_name": "ProgressView",
            "bar_style": "success",
            "description": "",
            "description_tooltip": null,
            "layout": "IPY_MODEL_a76b96dde2124e6bb1b79ec4bc92393a",
            "max": 500000,
            "min": 0,
            "orientation": "horizontal",
            "style": "IPY_MODEL_11e64ab42986401f8e55555cd63c69f2",
            "value": 500000
          }
        },
        "19482df51cf74c23853c1c03808f30e4": {
          "model_module": "@jupyter-widgets/controls",
          "model_name": "HTMLModel",
          "model_module_version": "1.5.0",
          "state": {
            "_dom_classes": [],
            "_model_module": "@jupyter-widgets/controls",
            "_model_module_version": "1.5.0",
            "_model_name": "HTMLModel",
            "_view_count": null,
            "_view_module": "@jupyter-widgets/controls",
            "_view_module_version": "1.5.0",
            "_view_name": "HTMLView",
            "description": "",
            "description_tooltip": null,
            "layout": "IPY_MODEL_55414645bd2f4a37b9c2ec6ca23cab5f",
            "placeholder": "​",
            "style": "IPY_MODEL_8f5ab940253e4b29b6da63f870dadc89",
            "value": " 500000/500000 [00:11&lt;00:00, 44031.87it/s]"
          }
        },
        "e71f7faec8b643ffad10d1e3baaea915": {
          "model_module": "@jupyter-widgets/base",
          "model_name": "LayoutModel",
          "model_module_version": "1.2.0",
          "state": {
            "_model_module": "@jupyter-widgets/base",
            "_model_module_version": "1.2.0",
            "_model_name": "LayoutModel",
            "_view_count": null,
            "_view_module": "@jupyter-widgets/base",
            "_view_module_version": "1.2.0",
            "_view_name": "LayoutView",
            "align_content": null,
            "align_items": null,
            "align_self": null,
            "border": null,
            "bottom": null,
            "display": null,
            "flex": null,
            "flex_flow": null,
            "grid_area": null,
            "grid_auto_columns": null,
            "grid_auto_flow": null,
            "grid_auto_rows": null,
            "grid_column": null,
            "grid_gap": null,
            "grid_row": null,
            "grid_template_areas": null,
            "grid_template_columns": null,
            "grid_template_rows": null,
            "height": null,
            "justify_content": null,
            "justify_items": null,
            "left": null,
            "margin": null,
            "max_height": null,
            "max_width": null,
            "min_height": null,
            "min_width": null,
            "object_fit": null,
            "object_position": null,
            "order": null,
            "overflow": null,
            "overflow_x": null,
            "overflow_y": null,
            "padding": null,
            "right": null,
            "top": null,
            "visibility": null,
            "width": null
          }
        },
        "fd5ad79d3c074687ab4cfd7a37e59271": {
          "model_module": "@jupyter-widgets/base",
          "model_name": "LayoutModel",
          "model_module_version": "1.2.0",
          "state": {
            "_model_module": "@jupyter-widgets/base",
            "_model_module_version": "1.2.0",
            "_model_name": "LayoutModel",
            "_view_count": null,
            "_view_module": "@jupyter-widgets/base",
            "_view_module_version": "1.2.0",
            "_view_name": "LayoutView",
            "align_content": null,
            "align_items": null,
            "align_self": null,
            "border": null,
            "bottom": null,
            "display": null,
            "flex": null,
            "flex_flow": null,
            "grid_area": null,
            "grid_auto_columns": null,
            "grid_auto_flow": null,
            "grid_auto_rows": null,
            "grid_column": null,
            "grid_gap": null,
            "grid_row": null,
            "grid_template_areas": null,
            "grid_template_columns": null,
            "grid_template_rows": null,
            "height": null,
            "justify_content": null,
            "justify_items": null,
            "left": null,
            "margin": null,
            "max_height": null,
            "max_width": null,
            "min_height": null,
            "min_width": null,
            "object_fit": null,
            "object_position": null,
            "order": null,
            "overflow": null,
            "overflow_x": null,
            "overflow_y": null,
            "padding": null,
            "right": null,
            "top": null,
            "visibility": null,
            "width": null
          }
        },
        "458e995fd6334dd2a62a8ba85c188ddb": {
          "model_module": "@jupyter-widgets/controls",
          "model_name": "DescriptionStyleModel",
          "model_module_version": "1.5.0",
          "state": {
            "_model_module": "@jupyter-widgets/controls",
            "_model_module_version": "1.5.0",
            "_model_name": "DescriptionStyleModel",
            "_view_count": null,
            "_view_module": "@jupyter-widgets/base",
            "_view_module_version": "1.2.0",
            "_view_name": "StyleView",
            "description_width": ""
          }
        },
        "a76b96dde2124e6bb1b79ec4bc92393a": {
          "model_module": "@jupyter-widgets/base",
          "model_name": "LayoutModel",
          "model_module_version": "1.2.0",
          "state": {
            "_model_module": "@jupyter-widgets/base",
            "_model_module_version": "1.2.0",
            "_model_name": "LayoutModel",
            "_view_count": null,
            "_view_module": "@jupyter-widgets/base",
            "_view_module_version": "1.2.0",
            "_view_name": "LayoutView",
            "align_content": null,
            "align_items": null,
            "align_self": null,
            "border": null,
            "bottom": null,
            "display": null,
            "flex": null,
            "flex_flow": null,
            "grid_area": null,
            "grid_auto_columns": null,
            "grid_auto_flow": null,
            "grid_auto_rows": null,
            "grid_column": null,
            "grid_gap": null,
            "grid_row": null,
            "grid_template_areas": null,
            "grid_template_columns": null,
            "grid_template_rows": null,
            "height": null,
            "justify_content": null,
            "justify_items": null,
            "left": null,
            "margin": null,
            "max_height": null,
            "max_width": null,
            "min_height": null,
            "min_width": null,
            "object_fit": null,
            "object_position": null,
            "order": null,
            "overflow": null,
            "overflow_x": null,
            "overflow_y": null,
            "padding": null,
            "right": null,
            "top": null,
            "visibility": null,
            "width": null
          }
        },
        "11e64ab42986401f8e55555cd63c69f2": {
          "model_module": "@jupyter-widgets/controls",
          "model_name": "ProgressStyleModel",
          "model_module_version": "1.5.0",
          "state": {
            "_model_module": "@jupyter-widgets/controls",
            "_model_module_version": "1.5.0",
            "_model_name": "ProgressStyleModel",
            "_view_count": null,
            "_view_module": "@jupyter-widgets/base",
            "_view_module_version": "1.2.0",
            "_view_name": "StyleView",
            "bar_color": null,
            "description_width": ""
          }
        },
        "55414645bd2f4a37b9c2ec6ca23cab5f": {
          "model_module": "@jupyter-widgets/base",
          "model_name": "LayoutModel",
          "model_module_version": "1.2.0",
          "state": {
            "_model_module": "@jupyter-widgets/base",
            "_model_module_version": "1.2.0",
            "_model_name": "LayoutModel",
            "_view_count": null,
            "_view_module": "@jupyter-widgets/base",
            "_view_module_version": "1.2.0",
            "_view_name": "LayoutView",
            "align_content": null,
            "align_items": null,
            "align_self": null,
            "border": null,
            "bottom": null,
            "display": null,
            "flex": null,
            "flex_flow": null,
            "grid_area": null,
            "grid_auto_columns": null,
            "grid_auto_flow": null,
            "grid_auto_rows": null,
            "grid_column": null,
            "grid_gap": null,
            "grid_row": null,
            "grid_template_areas": null,
            "grid_template_columns": null,
            "grid_template_rows": null,
            "height": null,
            "justify_content": null,
            "justify_items": null,
            "left": null,
            "margin": null,
            "max_height": null,
            "max_width": null,
            "min_height": null,
            "min_width": null,
            "object_fit": null,
            "object_position": null,
            "order": null,
            "overflow": null,
            "overflow_x": null,
            "overflow_y": null,
            "padding": null,
            "right": null,
            "top": null,
            "visibility": null,
            "width": null
          }
        },
        "8f5ab940253e4b29b6da63f870dadc89": {
          "model_module": "@jupyter-widgets/controls",
          "model_name": "DescriptionStyleModel",
          "model_module_version": "1.5.0",
          "state": {
            "_model_module": "@jupyter-widgets/controls",
            "_model_module_version": "1.5.0",
            "_model_name": "DescriptionStyleModel",
            "_view_count": null,
            "_view_module": "@jupyter-widgets/base",
            "_view_module_version": "1.2.0",
            "_view_name": "StyleView",
            "description_width": ""
          }
        }
      }
    }
  },
  "cells": [
    {
      "cell_type": "markdown",
      "metadata": {
        "id": "view-in-github",
        "colab_type": "text"
      },
      "source": [
        "<a href=\"https://colab.research.google.com/github/remisoulignac/scm_optim_problems/blob/main/SC1X_Python_Samples.ipynb\" target=\"_parent\"><img src=\"https://colab.research.google.com/assets/colab-badge.svg\" alt=\"Open In Colab\"/></a>"
      ]
    },
    {
      "cell_type": "markdown",
      "source": [
        "#Week 8: Inventory III - Multi-period Inventory Models - MM PP6 - New Day Electronics\n",
        "You have been hired by New Day Electronics Inc. (NDE), an original device manufacturer (ODM) of low-end smart phones, based in China. Each smart phone is powered by an application processor (AP), which serves as the 'brain' that makes the phone 'smart'. Although NDE assembles the phones, it does not make the APs. Instead, all the APs are procured from a microchip manufacturer based in Vietnam. The APs are produced in a facility that is in high demand, which means there is usually a long leadtime for the delivery of the products after the order is placed.\n",
        "\n",
        "You are in charge of managing the inventory for the APs. You have decided to use an (s,Q) inventory policy. NDE's annual demand for APs item is normally distributed with a mean of 2,500 units. Based on the RMSE, you know that the standard deviation of the AP demand is 224 units per year. Each AP costs you \\$10. Placing an order is extremely cheap: you calculate it only costs you \\$5 to place each order.  The lead-time is constant and equal to 10 weeks. (For the purpose of this problem, assume there are 52 week in a year.)  The holding charge is 25% annually.\n",
        "\n",
        "1.1) What is the economic order quantity, Q*, for the APs? Round to the nearest integer.\n",
        "\n",
        "1.2) In case of a stock out of APs, there is a penalty of $6 per unit short per year. What is the reorder point, s, for your current policy? Round to the nearest integer. What is the Expected Units Short per Cycle ?\n",
        "\n",
        "Algorithm :\n",
        "\n",
        "1) We find EOQ with the classical formula ![image.png](data:image/png;base64,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)\n",
        "\n",
        "2)  We find k such as  ![image.png](data:image/png;base64,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)\n",
        "\n",
        "3) We find the Expected Units Short per Cycle : ![image.png](data:image/png;base64,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) with G(k) the Unit Normal Loss Function."
      ],
      "metadata": {
        "id": "Wj_xq2z76u3P"
      }
    },
    {
      "cell_type": "code",
      "execution_count": 31,
      "metadata": {
        "colab": {
          "base_uri": "https://localhost:8080/"
        },
        "id": "3df4w3M-zkab",
        "outputId": "e277b2c3-6ab4-4c70-d07f-fac0cb12795b"
      },
      "outputs": [
        {
          "output_type": "stream",
          "name": "stdout",
          "text": [
            "Order Quantity: 100.0, Reorder point : 689.8081742353157\n",
            "Expected Cycle Service Level : 0.9833333333333333, Expected Units Short by Cycle : 0.5878370899002969\n"
          ]
        }
      ],
      "source": [
        "import math\n",
        "from scipy.stats import norm\n",
        "\n",
        "# Basic Continous Inventory Management. Checking theory and simulation\n",
        "\n",
        "\n",
        "WEEKS_PER_YEAR=52\n",
        "\n",
        "µD=2500 #mean demand : units/year\n",
        "σD=224 #stddev demand : units/year\n",
        "c=10  #cost : $/unit\n",
        "ct=5  #order cost : $/order\n",
        "µL=10/WEEKS_PER_YEAR #mean lead time : year\n",
        "h=0.25 #holding cost : $/$/year capital costs (opportunity cost of alternative investment) and non-capital holding costs : storage cost, service costs (insurance,taxes), risk costs (lost, stolen, damaged, obsolete)\n",
        "cs=6 #$/per unit short\n",
        "\n",
        "#Basic optimization for Multiperiod Inventory Problem\n",
        "#Economic Order Quantity\n",
        "eoq=math.sqrt(2*µD*ct/(h*c))\n",
        "#Safety Stock\n",
        "POptimalCostStockout = eoq*h*c / (µD * cs)\n",
        "assert(POptimalCostStockout<1)\n",
        "k=norm.ppf(1-POptimalCostStockout)\n",
        "#Demand during leadtime\n",
        "µDL=µD*µL\n",
        "σDL=math.sqrt(µL)*σD\n",
        "#Reorder point\n",
        "reorder_point=µDL+k*σDL\n",
        "estimated_stock_out_quantities=σDL*(norm.pdf(k)-k*(1-norm.cdf(k)))\n",
        "print(f\"Order Quantity: {eoq}, Reorder point : {reorder_point}\")\n",
        "print(f\"Expected Cycle Service Level : {norm.cdf(k)}, Expected Units Short by Cycle : {estimated_stock_out_quantities}\")\n"
      ]
    },
    {
      "cell_type": "code",
      "source": [
        "# let's simulate the same result\n",
        "# we construct here a simple monte carlo simulation (see : https://courses.edx.org/assets/courseware/v1/ab0b1e99bf1dfd166fae02fa0523500a/asset-v1:MITx+CTL.SC0x+3T2020+type@asset+block/SC0x_W10L2_DiscreteEventSimulation.pdf) \n",
        "from tqdm.notebook import tqdm\n",
        "import numpy as np\n",
        "import matplotlib.pyplot as plt\n",
        "\n",
        "def sim(demand_per_period, stddev_demand, avg_lead_time, reorder_point, eoq, nb_sim_periods=6000, steps_per_period=10):\n",
        "  periods=range(nb_sim_periods)\n",
        "  demands = norm(demand_per_period/steps_per_period, stddev_demand*math.sqrt(1/steps_per_period)).rvs(nb_sim_periods*steps_per_period)\n",
        "  result = {}\n",
        "  pipeline_orders= []\n",
        "  stock_out_cycles=[]\n",
        "  units_short_per_cycle=[]\n",
        "\n",
        "  inventory_position = reorder_point+eoq\n",
        "  inventory_on_hand= inventory_position\n",
        "\n",
        "  for p in tqdm(periods):\n",
        "    # for plotting, we remember the position of the inventories \n",
        "\n",
        "    for s in range(0, steps_per_period):\n",
        "      #simulation instant      \n",
        "      t=p*steps_per_period+s\n",
        "\n",
        "      # look for the reception of past orders\n",
        "      for order in list(pipeline_orders):\n",
        "        if order[\"expected_delivery_instant\"]<=t:\n",
        "          #the order is processed a little bit later than planned so we rewind to the instant\n",
        "          #the order should have arrived\n",
        "          real_ioh=inventory_on_hand+(t-order[\"expected_delivery_instant\"])*demands[t]\n",
        "          stock_out_cycles.append(1 if real_ioh <0 else 0)\n",
        "          units_short_per_cycle.append(-min(real_ioh,0))\n",
        "          inventory_on_hand+=order[\"size\"]\n",
        "          pipeline_orders.remove(order)\n",
        "\n",
        "      # we substract the daily demand from our inventories\n",
        "      inventory_position-=demands[t]\n",
        "      inventory_on_hand-=demands[t]\n",
        "\n",
        "      # should we order ? \n",
        "      if (inventory_position <= reorder_point): \n",
        "        #we should have ordered exactly when inventory_position=reorder_point\n",
        "        real_reorder_t=t-(reorder_point-inventory_position)/demands[t]\n",
        "        pipeline_orders.append({\"expected_delivery_instant\":real_reorder_t+avg_lead_time*steps_per_period, \"size\":eoq})\n",
        "        inventory_position=inventory_position+eoq\n",
        "\n",
        "  result[\"cycle_service_level\"]=(1-np.average(stock_out_cycles))\n",
        "  result[\"units_short_per_cycle\"]=np.average(units_short_per_cycle)\n",
        "  return result\n",
        "\n",
        "results=[]\n",
        "r=sim(µD/WEEKS_PER_YEAR, σD*math.sqrt(1/WEEKS_PER_YEAR), µL*WEEKS_PER_YEAR,  reorder_point, eoq, 500000, 10)\n",
        "print(\"Simulation results\")\n",
        "print(f\" Cycle Service Level : {r['cycle_service_level']}\")\n",
        "print(f\" Units Short by cycle : {r['units_short_per_cycle']}\")"
      ],
      "metadata": {
        "colab": {
          "base_uri": "https://localhost:8080/",
          "height": 101,
          "referenced_widgets": [
            "858a4b00f4e94c4181423e85ea585c77",
            "49c9d97fa84c4d16810934672a4f3b54",
            "55079bf095f34ef9974c124cd8e90239",
            "19482df51cf74c23853c1c03808f30e4",
            "e71f7faec8b643ffad10d1e3baaea915",
            "fd5ad79d3c074687ab4cfd7a37e59271",
            "458e995fd6334dd2a62a8ba85c188ddb",
            "a76b96dde2124e6bb1b79ec4bc92393a",
            "11e64ab42986401f8e55555cd63c69f2",
            "55414645bd2f4a37b9c2ec6ca23cab5f",
            "8f5ab940253e4b29b6da63f870dadc89"
          ]
        },
        "id": "M8NvKDJgfkgl",
        "outputId": "920abd9b-84e8-4372-9341-dbe122201820"
      },
      "execution_count": 30,
      "outputs": [
        {
          "output_type": "display_data",
          "data": {
            "text/plain": [
              "  0%|          | 0/500000 [00:00<?, ?it/s]"
            ],
            "application/vnd.jupyter.widget-view+json": {
              "version_major": 2,
              "version_minor": 0,
              "model_id": "858a4b00f4e94c4181423e85ea585c77"
            }
          },
          "metadata": {}
        },
        {
          "output_type": "stream",
          "name": "stdout",
          "text": [
            "Simulation results\n",
            " Cycle Service Level : 0.9837714838214947\n",
            " Units Short by cycle : 0.5505139864772555\n"
          ]
        }
      ]
    }
  ]
}