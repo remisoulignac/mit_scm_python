{
  "nbformat": 4,
  "nbformat_minor": 0,
  "metadata": {
    "colab": {
      "name": "SC3X_Scream2_Hyper_parameter_optimization.ipynb",
      "provenance": [],
      "collapsed_sections": [],
      "authorship_tag": "ABX9TyNIJSLBrAUeshBFpI2u8xqc",
      "include_colab_link": true
    },
    "kernelspec": {
      "name": "python3",
      "display_name": "Python 3"
    },
    "language_info": {
      "name": "python"
    }
  },
  "cells": [
    {
      "cell_type": "markdown",
      "metadata": {
        "id": "view-in-github",
        "colab_type": "text"
      },
      "source": [
        "<a href=\"https://colab.research.google.com/github/remisoulignac/scm_optim_problems/blob/main/SC3X_Scream2_Hyper_parameter_optimization.ipynb\" target=\"_parent\"><img src=\"https://colab.research.google.com/assets/colab-badge.svg\" alt=\"Open In Colab\"/></a>"
      ]
    },
    {
      "cell_type": "markdown",
      "source": [
        "# Objective\n",
        "Refer to SC3X-Scream1_MILP.ipynb for a presentation of the problem.\n",
        "\n",
        "The online simulator is here : https://scxscream.herokuapp.com/home/\n",
        "It is only accessible during the challenges.\n",
        "\n",
        "#Solution approach\n",
        "As explained in the V1 approach of the solution, it was difficult to modelize with MILP the online SCREAM simulator (in its version v4) and identify clearly which objective function we tried to optimize.\n",
        "\n",
        "In this V2 approach :\n",
        "\n",
        "1) we don't try to replicate the SCREAM simulator. We use its engine online by calling its API to do the calculations. Then, we just need to find the best combinaison of imput parameters to get the optimal solution.\n",
        "\n",
        "2) we use a simplified way to construct the objective function. It is now a weighted average based on probability of occurence of various failure modes. The scenario is static and prebuilt.\n",
        "\n",
        "To find the optimal parameters, we use the the hyper-parameter optimization library [hyperopt](http://hyperopt.github.io/hyperopt/). We pass it an objective function (the online REST API), the search space for the parameters, and voilà :) \n",
        "\n",
        "As a prerequesite to run this notebook, the online challenge must be open, its API accessible and compliant with th expected schema.\n",
        "\n",
        "Moreover, the goal of this notebook is only to showcase on approach using hyper-parameter optimization technique and not to give the answer. Hence, the scenario values have been tampered.\n"
      ],
      "metadata": {
        "id": "lu69_H2uaBNa"
      }
    },
    {
      "cell_type": "code",
      "metadata": {
        "colab": {
          "base_uri": "https://localhost:8080/"
        },
        "id": "CCifyAzxoSPw",
        "outputId": "4f479e5a-f1b6-462b-d148-e37ac9e96647"
      },
      "source": [
        "!pip install requests\n",
        "!pip install hyperopt"
      ],
      "execution_count": null,
      "outputs": [
        {
          "output_type": "stream",
          "name": "stdout",
          "text": [
            "Requirement already satisfied: requests in /usr/local/lib/python3.7/dist-packages (2.23.0)\n",
            "Requirement already satisfied: urllib3!=1.25.0,!=1.25.1,<1.26,>=1.21.1 in /usr/local/lib/python3.7/dist-packages (from requests) (1.24.3)\n",
            "Requirement already satisfied: idna<3,>=2.5 in /usr/local/lib/python3.7/dist-packages (from requests) (2.10)\n",
            "Requirement already satisfied: certifi>=2017.4.17 in /usr/local/lib/python3.7/dist-packages (from requests) (2021.10.8)\n",
            "Requirement already satisfied: chardet<4,>=3.0.2 in /usr/local/lib/python3.7/dist-packages (from requests) (3.0.4)\n",
            "Requirement already satisfied: hyperopt in /usr/local/lib/python3.7/dist-packages (0.1.2)\n",
            "Requirement already satisfied: pymongo in /usr/local/lib/python3.7/dist-packages (from hyperopt) (3.12.1)\n",
            "Requirement already satisfied: numpy in /usr/local/lib/python3.7/dist-packages (from hyperopt) (1.19.5)\n",
            "Requirement already satisfied: scipy in /usr/local/lib/python3.7/dist-packages (from hyperopt) (1.4.1)\n",
            "Requirement already satisfied: networkx in /usr/local/lib/python3.7/dist-packages (from hyperopt) (2.6.3)\n",
            "Requirement already satisfied: tqdm in /usr/local/lib/python3.7/dist-packages (from hyperopt) (4.62.3)\n",
            "Requirement already satisfied: six in /usr/local/lib/python3.7/dist-packages (from hyperopt) (1.15.0)\n",
            "Requirement already satisfied: future in /usr/local/lib/python3.7/dist-packages (from hyperopt) (0.16.0)\n"
          ]
        }
      ]
    },
    {
      "cell_type": "code",
      "metadata": {
        "colab": {
          "base_uri": "https://localhost:8080/"
        },
        "id": "FjmKExeFpL-F",
        "outputId": "97da8a8f-5bd2-4410-9219-8499bdf8c195"
      },
      "source": [
        "import numpy as np\n",
        "\n",
        "API_URL=\"http://scxscream.herokuapp.com/tests/\"\n",
        "\n",
        "#to get these information by pressing F11 on your web browser in the online SCREAM simulator and inspect the calls to the API \"test\"\n",
        "COOKIE = \"csrftoken=xxxx; sessionid=yyyy\"\n",
        "XCSRFToken = \"zzzz\"\n",
        "\n",
        "def check_scenario(scenario):\n",
        "  proba_sum = np.array(scenario).sum(axis=0)[6]\n",
        "  print(f\"sum of probabilities : {proba_sum}\")\n",
        "  assert(abs(proba_sum-1.0)<0.001)\n",
        "\n",
        "  #even number of lines\n",
        "  assert (len(scenario)%2==0)\n",
        "\n",
        "  return scenario\n",
        "\n",
        "\n",
        "\n",
        "# need an even number of scenario because with push 2 scenarii at the same time to the API\n",
        "# the _S values are week number when the  facility starts to be off\n",
        "# the _D values are the duration of the failure\n",
        "# note that the details of the scenario was tampered\n",
        "scenario2=check_scenario([\n",
        "#  [\"DC_S\", \"DC_D\", \"Pl_S\", \"Pl_D\", \"Su_S\", \"Su_D\", \"Prob\"]          \n",
        "   [     1,      0,      1,      0,      1,      0,   0.70], #Failure Mode 1\n",
        "   [     1,      0,      1,      0,      1,      0,   0.03], #Failure Mode 2\n",
        "   [     1,      0,      1,      0,      1,      0,   0.03], #Failure Mode 3\n",
        "   [     1,      0,      1,      0,      1,      0,   0.03], #Failure Mode 4\n",
        "   [     1,      0,      1,      0,      1,      0,   0.03], #Failure Mode 5\n",
        "   [     1,      0,      1,      0,      1,      0,   0.03], #Failure Mode 6\n",
        "   [     1,      0,      1,      0,      1,      0,   0.03], #Failure Mode 7\n",
        "   [     1,      0,      1,      0,      1,      0,   0.06], #Failure Mode 8\n",
        "   [     1,      0,      1,      0,      1,      0,   0.05], #Failure Mode 9\n",
        "   [     1,      0,      1,      0,      1,      0,   0.01], #Failure Mode 10\n",
        "])\n",
        "\n",
        "def find_best_solution(scenario, max_evals=10, penalty_missed_items=10):\n",
        "  check_scenario(scenario)\n",
        "  from hyperopt import fmin, tpe, hp, STATUS_OK, Trials\n",
        "  import requests\n",
        "\n",
        "  def objective(hyperparameters):\n",
        "    print(hyperparameters)\n",
        "    avgTotalProfit=0.0\n",
        "    avgIfrActual=0.0\n",
        "    it=iter(scenario)\n",
        "    for sc1, sc2 in zip(it, it): #zip by two\n",
        "      response = requests.get(API_URL)\n",
        "      payload={\n",
        "          \"altDisruptionsOne\":\n",
        "                {\n",
        "                    \"disruptionKey\":\"testkey\",\n",
        "                    \"dcStart\":\"{:.2f}\".format(52 if sc1[1]==0 else sc1[0]),\n",
        "                    \"dcDuration\": (max(sc1[1],1)), \n",
        "                    \"plantStart\":\"{:.2f}\".format(52 if sc1[3]==0 else sc1[2]),\n",
        "                    \"plantDuration\":(max(sc1[3],1)),\n",
        "                    \"supplierStart\":\"{:.2f}\".format(52 if sc1[5]==0 else sc1[4]),\n",
        "                    \"supplierDuration\":(max(sc1[5],1)),\n",
        "                },\n",
        "            \"altDisruptionsTwo\":\n",
        "                {\n",
        "                    \"disruptionKey\":\"testkey\",\n",
        "                    \"dcStart\":\"{:.2f}\".format(52 if sc2[1]==0 else sc2[0]),\n",
        "                    \"dcDuration\": (max(sc2[1],1)), \n",
        "                    \"plantStart\":\"{:.2f}\".format(52 if sc2[3]==0 else sc2[2]),\n",
        "                    \"plantDuration\":(max(sc2[3],1)),\n",
        "                    \"supplierStart\":\"{:.2f}\".format(52 if sc2[5]==0 else sc2[4]),\n",
        "                    \"supplierDuration\":(max(sc2[5],1)), \n",
        "                },\n",
        "            \"userInputOne\":\n",
        "              {\n",
        "                  \"fgi\":hyperparameters[\"fgi\"]*10,\n",
        "                  \"wip\":hyperparameters[\"wip\"]*10,\n",
        "                  \"waitToStart\":\"true\",\n",
        "                  \"supplier\":str(hyperparameters[\"supplier\"]),\n",
        "                  \"plant\":str(hyperparameters[\"plant\"]),\n",
        "                  \"dc\":str(hyperparameters[\"dc\"])\n",
        "              },\n",
        "            \"userInputTwo\":\n",
        "              {\n",
        "                  \"fgi\":hyperparameters[\"fgi\"]*10,\n",
        "                  \"wip\":hyperparameters[\"wip\"]*10,\n",
        "                  \"waitToStart\":\"true\",\n",
        "                  \"supplier\":str(hyperparameters[\"supplier\"]),\n",
        "                  \"plant\":str(hyperparameters[\"plant\"]),\n",
        "                  \"dc\":str(hyperparameters[\"dc\"])\n",
        "              }\n",
        "          }\n",
        "      headers={\n",
        "          \"Cookie\" : COOKIE,\n",
        "          \"Content-type\": \"application/json\",\n",
        "          \"X-CSRFToken\": XCSRFToken\n",
        "        }\n",
        "      raw_response = requests.post(API_URL, headers=headers, json = payload)\n",
        "      response=raw_response.json()\n",
        "      # {'out1': {'altDisruptionsOne': {'avgIfrActual': 0.04215,\n",
        "      #   'avgTotalCosts': 14330.77,\n",
        "      #  'avgTotalProfit': 15639.23,\n",
        "      #  'avgTotalRevenue': 29970.0}},\n",
        "      #'out2': {'altDisruptionsTwo': {'avgIfrActual': 0.04215,\n",
        "      #  'avgTotalCosts': 14330.77,\n",
        "      #  'avgTotalProfit': 15639.23,\n",
        "      #  'avgTotalRevenue': 29970.0}}}\n",
        "      avgTotalProfit = avgTotalProfit+response[\"out1\"][\"altDisruptionsOne\"][\"avgTotalProfit\"]*sc1[6]\n",
        "      avgIfrActual = avgIfrActual+response[\"out1\"][\"altDisruptionsOne\"][\"avgIfrActual\"]*sc1[6]\n",
        "      avgTotalProfit = avgTotalProfit+response[\"out2\"][\"altDisruptionsTwo\"][\"avgTotalProfit\"]*sc2[6]\n",
        "      avgIfrActual = avgIfrActual+response[\"out2\"][\"altDisruptionsTwo\"][\"avgIfrActual\"]*sc2[6]\n",
        "    \n",
        "    loss= -(avgTotalProfit- (1-avgIfrActual)*5200*penalty_missed_items)\n",
        "    print(f\"loss:{loss}, avgTotalProfit:{avgTotalProfit}, avgIfrActual:{avgIfrActual}\")\n",
        "    return {\n",
        "        'loss': loss,\n",
        "        'status':STATUS_OK,\n",
        "        'attachments':  {\"avgTotalProfit\": avgTotalProfit, \"avgIfrActual\" : avgIfrActual }\n",
        "      }\n",
        "\n",
        "  search_space = {\n",
        "      'fgi': hp.randint('fgi', 520),\n",
        "      'wip': hp.randint('wip', 520),\n",
        "      'dc' : hp.choice('dc', [1, 2, 3, 4, 5, 6, 7]),\n",
        "      'plant' : hp.choice('plant', [1, 2, 3, 4, 5, 6, 7]),\n",
        "      'supplier' : hp.choice('supplier', [1, 2, 3, 4, 5, 6, 7])\n",
        "  }\n",
        "\n",
        "  trials = Trials()\n",
        "  best = fmin(objective,\n",
        "      space=search_space,\n",
        "      algo=tpe.suggest,\n",
        "      max_evals=max_evals,\n",
        "      trials=trials)\n",
        "  \n",
        "  return trials"
      ],
      "execution_count": null,
      "outputs": [
        {
          "output_type": "stream",
          "name": "stdout",
          "text": [
            "sum of probabilities : 1.0000000000000002\n"
          ]
        }
      ]
    },
    {
      "cell_type": "code",
      "metadata": {
        "id": "sGFW8PGqqcPR"
      },
      "source": [
        "sol2 = find_best_solution(scenario2, 1000)"
      ],
      "execution_count": null,
      "outputs": []
    },
    {
      "cell_type": "code",
      "metadata": {
        "id": "B8tcEjw7_Iku"
      },
      "source": [
        "print(sol2.best_trial[\"misc\"][\"vals\"])\n",
        "print(sol2.trial_attachments(sol2.best_trial)['avgTotalProfit'])\n",
        "print(sol2.trial_attachments(sol2.best_trial)['avgIfrActual'])"
      ],
      "execution_count": null,
      "outputs": []
    }
  ]
}