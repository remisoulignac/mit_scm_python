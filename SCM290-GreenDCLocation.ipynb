{
  "nbformat": 4,
  "nbformat_minor": 0,
  "metadata": {
    "colab": {
      "provenance": [],
      "authorship_tag": "ABX9TyOaG4fTbe85yEcSHoQGrcFj",
      "include_colab_link": true
    },
    "kernelspec": {
      "name": "python3",
      "display_name": "Python 3"
    },
    "language_info": {
      "name": "python"
    }
  },
  "cells": [
    {
      "cell_type": "markdown",
      "metadata": {
        "id": "view-in-github",
        "colab_type": "text"
      },
      "source": [
        "<a href=\"https://colab.research.google.com/github/remisoulignac/scm_optim_problems/blob/staging/SCM290-GreenDCLocation.ipynb\" target=\"_parent\"><img src=\"https://colab.research.google.com/assets/colab-badge.svg\" alt=\"Open In Colab\"/></a>"
      ]
    },
    {
      "cell_type": "code",
      "execution_count": 2,
      "metadata": {
        "id": "wgnrNan0rqoP",
        "colab": {
          "base_uri": "https://localhost:8080/"
        },
        "outputId": "b3679228-5ebc-462a-d5c2-84d4fd4eebe5"
      },
      "outputs": [
        {
          "output_type": "stream",
          "name": "stdout",
          "text": [
            "Looking in indexes: https://pypi.org/simple, https://us-python.pkg.dev/colab-wheels/public/simple/\n",
            "Collecting ortools\n",
            "  Downloading ortools-9.5.2237-cp38-cp38-manylinux_2_17_x86_64.manylinux2014_x86_64.whl (16.3 MB)\n",
            "\u001b[K     |████████████████████████████████| 16.3 MB 1.1 MB/s \n",
            "\u001b[?25hRequirement already satisfied: absl-py>=0.13 in /usr/local/lib/python3.8/dist-packages (from ortools) (1.3.0)\n",
            "Collecting protobuf>=4.21.5\n",
            "  Downloading protobuf-4.21.11-cp37-abi3-manylinux2014_x86_64.whl (409 kB)\n",
            "\u001b[K     |████████████████████████████████| 409 kB 13.6 MB/s \n",
            "\u001b[?25hRequirement already satisfied: numpy>=1.13.3 in /usr/local/lib/python3.8/dist-packages (from ortools) (1.21.6)\n",
            "Installing collected packages: protobuf, ortools\n",
            "  Attempting uninstall: protobuf\n",
            "    Found existing installation: protobuf 3.19.6\n",
            "    Uninstalling protobuf-3.19.6:\n",
            "      Successfully uninstalled protobuf-3.19.6\n",
            "\u001b[31mERROR: pip's dependency resolver does not currently take into account all the packages that are installed. This behaviour is the source of the following dependency conflicts.\n",
            "tensorflow 2.9.2 requires protobuf<3.20,>=3.9.2, but you have protobuf 4.21.11 which is incompatible.\n",
            "tensorflow-metadata 1.11.0 requires protobuf<4,>=3.13, but you have protobuf 4.21.11 which is incompatible.\n",
            "tensorboard 2.9.1 requires protobuf<3.20,>=3.9.2, but you have protobuf 4.21.11 which is incompatible.\u001b[0m\n",
            "Successfully installed ortools-9.5.2237 protobuf-4.21.11\n"
          ]
        }
      ],
      "source": [
        "!pip install ortools"
      ]
    },
    {
      "cell_type": "markdown",
      "source": [
        "#Week 3 Green Location Problem\n",
        "FastShipCo has has to deliver 20 locations with various demand level and truck constraints. 5 possible locations have been identified for building distribution centers. Only up to 2 DC can be opened. \n",
        "Find the best location for the 2 DCs while optimizing total cost including CO2 emissions"
      ],
      "metadata": {
        "id": "0_nsrdGVrtZp"
      }
    },
    {
      "cell_type": "code",
      "source": [
        "from ortools.sat.python import cp_model\n",
        "import numpy as np\n",
        "import math\n",
        "import matplotlib.pyplot as plt\n",
        "import seaborn as sns\n",
        "\n",
        "INFINITY = cp_model.INT32_MAX\n",
        "model = cp_model.CpModel()\n",
        "\n",
        "#helper functions to deal with arrays\n",
        "add_constraints_eq=np.vectorize(lambda e,c : model.Add(e==c))\n",
        "add_constraints_ge=np.vectorize(lambda e,c : model.Add(e>=c))\n",
        "add_constraints_le=np.vectorize(lambda e,c : model.Add(e<=c))\n",
        "vararray_to_resultarray=np.vectorize(lambda v:solver.Value(v))\n",
        "vararray_to_results=np.vectorize(lambda v:f'{v.Name()}={solver.Value(v)}')\n",
        "\n",
        "#-- INPUTS\n",
        "MaxOpenedDCs=2\n",
        "\n",
        "#[X, Y, Demand, TruckSize]\n",
        "DemandNodes= np.array([\n",
        "  [79, 6, 107,  26],\n",
        "  [16, 47, 2,  7.5],\n",
        "  [60, 37, 134,  7.5],\n",
        "  [14, 92, 22,  14],\n",
        "  [100, 41, 71,  26],\n",
        "  [9, 10, 21,  14],\n",
        "  [75, 62, 3,  26],\n",
        "  [59, 56, 65,  7.5],\n",
        "  [26, 10, 31,  7.5],\n",
        "  [10, 23, 41,  7.5],\n",
        "  [26, 51, 3,  14],\n",
        "  [41, 56, 5,  14],\n",
        "  [40, 95, 37,  14],\n",
        "  [0, 100, 78,  14],\n",
        "  [47, 100, 54,  7.5],\n",
        "  [9, 13, 6,  28],\n",
        "  [95, 18, 47,  7.5],\n",
        "  [74, 82, 20,  28],\n",
        "  [52, 4, 33,  26],\n",
        "  [75, 85, 13,  14]\n",
        "])\n",
        "\n",
        "#[X, Y]\n",
        "CandidateDCs= np.array([\n",
        "  [39, 78],\n",
        "  [15, 67],\n",
        "  [88, 26],\n",
        "  [47, 38],\n",
        "  [77, 59],\n",
        "  [15, 36],\n",
        "  [72, 96],\n",
        "  [10, 38],\n",
        "  [39, 70],\n",
        "  [75, 55],\n",
        "  [82, 66],\n",
        "])\n",
        "\n",
        "\n",
        "\n",
        "\n",
        "#Fuel Comsumption : [Truck Size, FCEmpty in Liter/km, FCFull in Liter/Km]\n",
        "FC= np.array([\n",
        "    [7.5, 0.11, 0.134],\n",
        "    [14, 0.171, 0.228], \n",
        "    [26, 0.244, 0.352], \n",
        "    [28, 0.255, 0.402]\n",
        "])\n",
        "\n",
        "#Shape:CandidateDCs x DemandNodes \n",
        "EuclidianDistances=np.array(list(list(math.sqrt((dc[0]-node[0])**2+(dc[1]-node[1])**2) for node in DemandNodes) for dc in CandidateDCs))\n",
        "\n",
        "#Shape:DemandNodes\n",
        "FCEmptyForNode=np.array(list(FC[FC[:,0]==truckSize,1][0] for truckSize in DemandNodes[:,3]))\n",
        "FCFullForNode=np.array(list(FC[FC[:,0]==truckSize,2][0] for truckSize in DemandNodes[:,3]))\n",
        "LoadFactorForNode=np.array(list(node[2]/node[3] for node in DemandNodes))\n",
        "CeiledLoadFactorForNode=np.ceil(LoadFactorForNode)\n",
        "CarbonEmissionFactor=2.6 #Kg of CO2 / Liter\n",
        "CostPerTonKilometer=1.20 #$ / Ton.km\n",
        "\n",
        "#- DECISIONS VARIABLES\n",
        "#Shape : CandidateDCs\n",
        "IsDCOpened=np.asarray(list(model.NewBoolVar(\"DC{}\".format(dc)) for dc in range(CandidateDCs.shape[0])))\n",
        "#Shape : DemandNodes x CandidateDCs \n",
        "DoesDCServeNode=np.asarray(list(list(model.NewBoolVar(\"DC{}->Node{}\".format(dc,node)) for node in range(DemandNodes.shape[0])) for dc in range(CandidateDCs.shape[0])) )\n",
        "\n",
        "#-- CONSTRAINTS\n",
        "# each node is served by at most 1 dc\n",
        "add_constraints_eq(np.sum(DoesDCServeNode, axis=0), 1)\n",
        "# max opened DCs\n",
        "add_constraints_eq(np.sum(IsDCOpened), MaxOpenedDCs)\n",
        "# a node is served if the dc is opened\n",
        "for dc in range(CandidateDCs.shape[0]):\n",
        "  add_constraints_le(DoesDCServeNode[dc,:], IsDCOpened[dc]) \n",
        "\n",
        "#-- OBJECTIVE FUNCTION\n",
        "CostOfCarbon=100\n",
        "TotalTransportationCost = CostPerTonKilometer*np.sum(np.sum(DemandNodes[:,2]*EuclidianDistances*DoesDCServeNode))\n",
        "TotalCarbonEmission = CarbonEmissionFactor*np.sum(np.sum(EuclidianDistances*(FCEmptyForNode*CeiledLoadFactorForNode+(FCFullForNode-FCEmptyForNode)*LoadFactorForNode)*DoesDCServeNode))\n",
        "TotalCost=TotalTransportationCost+CostOfCarbon*TotalCarbonEmission\n",
        "model.Minimize(TotalCost)\n",
        "\n",
        "#-- EXECUTION\n",
        "solver = cp_model.CpSolver()\n",
        "status = solver.Solve(model)\n",
        "if status == cp_model.OPTIMAL:\n",
        "    fig, ax = plt.subplots()\n",
        "    sns.scatterplot(data=DemandNodes, x=DemandNodes[:,0], y=DemandNodes[:,1], size=DemandNodes[:,2], hue=DemandNodes[:,3],sizes=(40, 400), palette=\"muted\", ax=ax)\n",
        "\n",
        "    for i in range(CandidateDCs.shape[0]):\n",
        "      ax.text(x=CandidateDCs[i,0],y=CandidateDCs[i,1],s=i, fontdict=dict(color='red',size=10), bbox=dict(facecolor='yellow' if solver.Value(IsDCOpened[i])==1 else 'black',alpha=0.5))\n",
        "\n",
        "    for i in range(CandidateDCs.shape[0]):\n",
        "      for j in range(DemandNodes.shape[0]):\n",
        "        if solver.Value(DoesDCServeNode[i][j]):\n",
        "          ax.plot([CandidateDCs[i][0],DemandNodes[j][0]],[CandidateDCs[i][1],DemandNodes[j][1]])\n",
        "    plt.show()\n",
        "\n",
        "    print(\"Objective=\", solver.ObjectiveValue())\n",
        "    print(\"TotalTransportationCost\", solver.Value(TotalTransportationCost) )\n",
        "    print(\"TotalCarbonEmission\", solver.Value(TotalCarbonEmission) )\n",
        "    print(\"IsDCOpened=\\n\", vararray_to_results(IsDCOpened))\n",
        "    print(\"DoesDCServeNode=\\n\", vararray_to_results(DoesDCServeNode))\n",
        "else:\n",
        "    print('No optimal solution found.')\n"
      ],
      "metadata": {
        "id": "FZs0TisRrw0G",
        "colab": {
          "base_uri": "https://localhost:8080/",
          "height": 1000
        },
        "outputId": "a1eb8592-6ede-4242-af64-b0bc7ba23b72"
      },
      "execution_count": 4,
      "outputs": [
        {
          "output_type": "display_data",
          "data": {
            "text/plain": [
              "<Figure size 432x288 with 1 Axes>"
            ],
            "image/png": "[encoded data removed]"
          },
          "metadata": {
            "needs_background": "light"
          }
        },
        {
          "output_type": "stream",
          "name": "stdout",
          "text": [
            "Objective= 160015.40056820348\n",
            "TotalTransportationCost 30817.96688274649\n",
            "TotalCarbonEmission 1291.9743368545699\n",
            "IsDCOpened=\n",
            " ['DC0=1' 'DC1=0' 'DC2=1' 'DC3=0' 'DC4=0' 'DC5=0' 'DC6=0' 'DC7=0' 'DC8=0'\n",
            " 'DC9=0' 'DC10=0']\n",
            "DoesDCServeNode=\n",
            " [['DC0->Node0=0' 'DC0->Node1=1' 'DC0->Node2=0' 'DC0->Node3=1'\n",
            "  'DC0->Node4=0' 'DC0->Node5=1' 'DC0->Node6=0' 'DC0->Node7=1'\n",
            "  'DC0->Node8=0' 'DC0->Node9=1' 'DC0->Node10=1' 'DC0->Node11=1'\n",
            "  'DC0->Node12=1' 'DC0->Node13=1' 'DC0->Node14=1' 'DC0->Node15=1'\n",
            "  'DC0->Node16=0' 'DC0->Node17=1' 'DC0->Node18=0' 'DC0->Node19=1']\n",
            " ['DC1->Node0=0' 'DC1->Node1=0' 'DC1->Node2=0' 'DC1->Node3=0'\n",
            "  'DC1->Node4=0' 'DC1->Node5=0' 'DC1->Node6=0' 'DC1->Node7=0'\n",
            "  'DC1->Node8=0' 'DC1->Node9=0' 'DC1->Node10=0' 'DC1->Node11=0'\n",
            "  'DC1->Node12=0' 'DC1->Node13=0' 'DC1->Node14=0' 'DC1->Node15=0'\n",
            "  'DC1->Node16=0' 'DC1->Node17=0' 'DC1->Node18=0' 'DC1->Node19=0']\n",
            " ['DC2->Node0=1' 'DC2->Node1=0' 'DC2->Node2=1' 'DC2->Node3=0'\n",
            "  'DC2->Node4=1' 'DC2->Node5=0' 'DC2->Node6=1' 'DC2->Node7=0'\n",
            "  'DC2->Node8=1' 'DC2->Node9=0' 'DC2->Node10=0' 'DC2->Node11=0'\n",
            "  'DC2->Node12=0' 'DC2->Node13=0' 'DC2->Node14=0' 'DC2->Node15=0'\n",
            "  'DC2->Node16=1' 'DC2->Node17=0' 'DC2->Node18=1' 'DC2->Node19=0']\n",
            " ['DC3->Node0=0' 'DC3->Node1=0' 'DC3->Node2=0' 'DC3->Node3=0'\n",
            "  'DC3->Node4=0' 'DC3->Node5=0' 'DC3->Node6=0' 'DC3->Node7=0'\n",
            "  'DC3->Node8=0' 'DC3->Node9=0' 'DC3->Node10=0' 'DC3->Node11=0'\n",
            "  'DC3->Node12=0' 'DC3->Node13=0' 'DC3->Node14=0' 'DC3->Node15=0'\n",
            "  'DC3->Node16=0' 'DC3->Node17=0' 'DC3->Node18=0' 'DC3->Node19=0']\n",
            " ['DC4->Node0=0' 'DC4->Node1=0' 'DC4->Node2=0' 'DC4->Node3=0'\n",
            "  'DC4->Node4=0' 'DC4->Node5=0' 'DC4->Node6=0' 'DC4->Node7=0'\n",
            "  'DC4->Node8=0' 'DC4->Node9=0' 'DC4->Node10=0' 'DC4->Node11=0'\n",
            "  'DC4->Node12=0' 'DC4->Node13=0' 'DC4->Node14=0' 'DC4->Node15=0'\n",
            "  'DC4->Node16=0' 'DC4->Node17=0' 'DC4->Node18=0' 'DC4->Node19=0']\n",
            " ['DC5->Node0=0' 'DC5->Node1=0' 'DC5->Node2=0' 'DC5->Node3=0'\n",
            "  'DC5->Node4=0' 'DC5->Node5=0' 'DC5->Node6=0' 'DC5->Node7=0'\n",
            "  'DC5->Node8=0' 'DC5->Node9=0' 'DC5->Node10=0' 'DC5->Node11=0'\n",
            "  'DC5->Node12=0' 'DC5->Node13=0' 'DC5->Node14=0' 'DC5->Node15=0'\n",
            "  'DC5->Node16=0' 'DC5->Node17=0' 'DC5->Node18=0' 'DC5->Node19=0']\n",
            " ['DC6->Node0=0' 'DC6->Node1=0' 'DC6->Node2=0' 'DC6->Node3=0'\n",
            "  'DC6->Node4=0' 'DC6->Node5=0' 'DC6->Node6=0' 'DC6->Node7=0'\n",
            "  'DC6->Node8=0' 'DC6->Node9=0' 'DC6->Node10=0' 'DC6->Node11=0'\n",
            "  'DC6->Node12=0' 'DC6->Node13=0' 'DC6->Node14=0' 'DC6->Node15=0'\n",
            "  'DC6->Node16=0' 'DC6->Node17=0' 'DC6->Node18=0' 'DC6->Node19=0']\n",
            " ['DC7->Node0=0' 'DC7->Node1=0' 'DC7->Node2=0' 'DC7->Node3=0'\n",
            "  'DC7->Node4=0' 'DC7->Node5=0' 'DC7->Node6=0' 'DC7->Node7=0'\n",
            "  'DC7->Node8=0' 'DC7->Node9=0' 'DC7->Node10=0' 'DC7->Node11=0'\n",
            "  'DC7->Node12=0' 'DC7->Node13=0' 'DC7->Node14=0' 'DC7->Node15=0'\n",
            "  'DC7->Node16=0' 'DC7->Node17=0' 'DC7->Node18=0' 'DC7->Node19=0']\n",
            " ['DC8->Node0=0' 'DC8->Node1=0' 'DC8->Node2=0' 'DC8->Node3=0'\n",
            "  'DC8->Node4=0' 'DC8->Node5=0' 'DC8->Node6=0' 'DC8->Node7=0'\n",
            "  'DC8->Node8=0' 'DC8->Node9=0' 'DC8->Node10=0' 'DC8->Node11=0'\n",
            "  'DC8->Node12=0' 'DC8->Node13=0' 'DC8->Node14=0' 'DC8->Node15=0'\n",
            "  'DC8->Node16=0' 'DC8->Node17=0' 'DC8->Node18=0' 'DC8->Node19=0']\n",
            " ['DC9->Node0=0' 'DC9->Node1=0' 'DC9->Node2=0' 'DC9->Node3=0'\n",
            "  'DC9->Node4=0' 'DC9->Node5=0' 'DC9->Node6=0' 'DC9->Node7=0'\n",
            "  'DC9->Node8=0' 'DC9->Node9=0' 'DC9->Node10=0' 'DC9->Node11=0'\n",
            "  'DC9->Node12=0' 'DC9->Node13=0' 'DC9->Node14=0' 'DC9->Node15=0'\n",
            "  'DC9->Node16=0' 'DC9->Node17=0' 'DC9->Node18=0' 'DC9->Node19=0']\n",
            " ['DC10->Node0=0' 'DC10->Node1=0' 'DC10->Node2=0' 'DC10->Node3=0'\n",
            "  'DC10->Node4=0' 'DC10->Node5=0' 'DC10->Node6=0' 'DC10->Node7=0'\n",
            "  'DC10->Node8=0' 'DC10->Node9=0' 'DC10->Node10=0' 'DC10->Node11=0'\n",
            "  'DC10->Node12=0' 'DC10->Node13=0' 'DC10->Node14=0' 'DC10->Node15=0'\n",
            "  'DC10->Node16=0' 'DC10->Node17=0' 'DC10->Node18=0' 'DC10->Node19=0']]\n"
          ]
        }
      ]
    }
  ]
}