{
  "nbformat": 4,
  "nbformat_minor": 0,
  "metadata": {
    "colab": {
      "provenance": [],
      "authorship_tag": "ABX9TyP71sbrB+SECpqQFo7jQDl/",
      "include_colab_link": true
    },
    "kernelspec": {
      "name": "python3",
      "display_name": "Python 3"
    },
    "language_info": {
      "name": "python"
    }
  },
  "cells": [
    {
      "cell_type": "markdown",
      "metadata": {
        "id": "view-in-github",
        "colab_type": "text"
      },
      "source": [
        "<a href=\"https://colab.research.google.com/github/remisoulignac/scm_optim_problems/blob/staging/SCM290-GreenDCLocation.ipynb\" target=\"_parent\"><img src=\"https://colab.research.google.com/assets/colab-badge.svg\" alt=\"Open In Colab\"/></a>"
      ]
    },
    {
      "cell_type": "code",
      "execution_count": null,
      "metadata": {
        "id": "wgnrNan0rqoP"
      },
      "outputs": [],
      "source": [
        "!pip install ortools"
      ]
    },
    {
      "cell_type": "markdown",
      "source": [
        "#Week 3 Green Location Problem\n",
        "FastShipCo has has to deliver 20 locations with various demand level and truck constraints. 5 possible locations have been identified for building distribution centers. Only up to 2 DC can be opened. \n",
        "Find the best location for the 2 DCs while optimizing total cost including CO2 emissions"
      ],
      "metadata": {
        "id": "0_nsrdGVrtZp"
      }
    },
    {
      "cell_type": "code",
      "source": [
        "from ortools.sat.python import cp_model\n",
        "import numpy as np\n",
        "import math\n",
        "import matplotlib.pyplot as plt\n",
        "import seaborn as sns\n",
        "\n",
        "INFINITY = cp_model.INT32_MAX\n",
        "model = cp_model.CpModel()\n",
        "\n",
        "#helper functions to deal with arrays\n",
        "add_constraints_eq=np.vectorize(lambda e,c : model.Add(e==c))\n",
        "add_constraints_ge=np.vectorize(lambda e,c : model.Add(e>=c))\n",
        "add_constraints_le=np.vectorize(lambda e,c : model.Add(e<=c))\n",
        "vararray_to_resultarray=np.vectorize(lambda v:solver.Value(v))\n",
        "vararray_to_results=np.vectorize(lambda v:f'{v.Name()}={solver.Value(v)}')\n",
        "\n",
        "#-- INPUTS\n",
        "MaxOpenedDCs=2\n",
        "\n",
        "#[X, Y, Demand, TruckSize]\n",
        "DemandNodes= np.array([\n",
        "  [79, 6, 107,  26],\n",
        "  [16, 47, 2,  7.5],\n",
        "  [60, 37, 134,  7.5],\n",
        "  [14, 92, 22,  14],\n",
        "  [100, 41, 71,  26],\n",
        "  [9, 10, 21,  14],\n",
        "  [75, 62, 3,  26],\n",
        "  [59, 56, 65,  7.5],\n",
        "  [26, 10, 31,  7.5],\n",
        "  [10, 23, 41,  7.5],\n",
        "  [26, 51, 3,  14],\n",
        "  [41, 56, 5,  14],\n",
        "  [40, 95, 37,  14],\n",
        "  [0, 100, 78,  14],\n",
        "  [47, 100, 54,  7.5],\n",
        "  [9, 13, 6,  28],\n",
        "  [95, 18, 47,  7.5],\n",
        "  [74, 82, 20,  28],\n",
        "  [52, 4, 33,  26],\n",
        "  [75, 85, 13,  14]\n",
        "])\n",
        "\n",
        "#[X, Y]\n",
        "CandidateDCs= np.array([\n",
        "  [39, 78],\n",
        "  [15, 67],\n",
        "  [88, 26],\n",
        "  [47, 38],\n",
        "  [77, 59],\n",
        "  [15, 36],\n",
        "  [72, 96],\n",
        "  [10, 38],\n",
        "  [39, 70],\n",
        "  [75, 55],\n",
        "  [82, 66],\n",
        "])\n",
        "\n",
        "\n",
        "\n",
        "\n",
        "#Fuel Comsumption : [Truck Size, FCEmpty in Liter/km, FCFull in Liter/Km]\n",
        "FC= np.array([\n",
        "    [7.5, 0.11, 0.134],\n",
        "    [14, 0.171, 0.228], \n",
        "    [26, 0.244, 0.352], \n",
        "    [28, 0.255, 0.402]\n",
        "])\n",
        "\n",
        "#Shape:CandidateDCs x DemandNodes \n",
        "EuclidianDistances=np.array(list(list(math.sqrt((dc[0]-node[0])**2+(dc[1]-node[1])**2) for node in DemandNodes) for dc in CandidateDCs))\n",
        "\n",
        "#Shape:DemandNodes\n",
        "FCEmptyForNode=np.array(list(FC[FC[:,0]==truckSize,1][0] for truckSize in DemandNodes[:,3]))\n",
        "FCFullForNode=np.array(list(FC[FC[:,0]==truckSize,2][0] for truckSize in DemandNodes[:,3]))\n",
        "LoadFactorForNode=np.array(list(node[2]/node[3] for node in DemandNodes))\n",
        "CeiledLoadFactorForNode=np.ceil(LoadFactorForNode)\n",
        "CarbonEmissionFactor=2.6 #Kg of CO2 / Liter\n",
        "CostPerTonKilometer=1.20 #$ / Ton.km\n",
        "\n",
        "#- DECISIONS VARIABLES\n",
        "#Shape : CandidateDCs\n",
        "IsDCOpened=np.asarray(list(model.NewBoolVar(\"DC{}\".format(dc)) for dc in range(CandidateDCs.shape[0])))\n",
        "#Shape : DemandNodes x CandidateDCs \n",
        "DoesDCServeNode=np.asarray(list(list(model.NewBoolVar(\"DC{}->Node{}\".format(dc,node)) for node in range(DemandNodes.shape[0])) for dc in range(CandidateDCs.shape[0])) )\n",
        "\n",
        "#-- CONSTRAINTS\n",
        "# each node is served by at most 1 dc\n",
        "add_constraints_eq(np.sum(DoesDCServeNode, axis=0), 1)\n",
        "# max opened DCs\n",
        "add_constraints_eq(np.sum(IsDCOpened), MaxOpenedDCs)\n",
        "# a node is served if the dc is opened\n",
        "for dc in range(CandidateDCs.shape[0]):\n",
        "  add_constraints_le(DoesDCServeNode[dc,:], IsDCOpened[dc]) \n",
        "\n",
        "#-- OBJECTIVE FUNCTION\n",
        "CostOfCarbon=100\n",
        "TotalTransportationCost = CostPerTonKilometer*np.sum(np.sum(DemandNodes[:,2]*EuclidianDistances*DoesDCServeNode))\n",
        "TotalCarbonEmission = CarbonEmissionFactor*np.sum(np.sum(EuclidianDistances*(FCEmptyForNode*CeiledLoadFactorForNode+(FCFullForNode-FCEmptyForNode)*LoadFactorForNode)*DoesDCServeNode))\n",
        "TotalCost=TotalTransportationCost+CostOfCarbon*TotalCarbonEmission\n",
        "model.Minimize(TotalCost)\n",
        "\n",
        "#-- EXECUTION\n",
        "solver = cp_model.CpSolver()\n",
        "status = solver.Solve(model)\n",
        "if status == cp_model.OPTIMAL:\n",
        "    fig, ax = plt.subplots()\n",
        "    sns.scatterplot(data=DemandNodes, x=DemandNodes[:,0], y=DemandNodes[:,1], size=DemandNodes[:,2], hue=DemandNodes[:,3],sizes=(40, 400), palette=\"muted\", ax=ax)\n",
        "\n",
        "    for i in range(CandidateDCs.shape[0]):\n",
        "      ax.text(x=CandidateDCs[i,0],y=CandidateDCs[i,1],s=i, fontdict=dict(color='red',size=10), bbox=dict(facecolor='yellow' if solver.Value(IsDCOpened[i])==1 else 'black',alpha=0.5))\n",
        "\n",
        "    plt.show()\n",
        "\n",
        "    print(\"Objective=\", solver.ObjectiveValue())\n",
        "    print(\"TotalTransportationCost\", solver.Value(TotalTransportationCost) )\n",
        "    print(\"TotalCarbonEmission\", solver.Value(TotalCarbonEmission) )\n",
        "    print(\"IsDCOpened=\\n\", vararray_to_results(IsDCOpened))\n",
        "    print(\"DoesDCServeNode=\\n\", vararray_to_results(DoesDCServeNode))\n",
        "else:\n",
        "    print('No optimal solution found.')\n"
      ],
      "metadata": {
        "id": "FZs0TisRrw0G"
      },
      "execution_count": null,
      "outputs": []
    }
  ]
}